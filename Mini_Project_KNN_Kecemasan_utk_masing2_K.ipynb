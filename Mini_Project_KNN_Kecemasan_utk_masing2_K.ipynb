{
  "nbformat": 4,
  "nbformat_minor": 0,
  "metadata": {
    "colab": {
      "provenance": [],
      "collapsed_sections": []
    },
    "kernelspec": {
      "name": "python3",
      "display_name": "Python 3"
    },
    "language_info": {
      "name": "python"
    }
  },
  "cells": [
    {
      "cell_type": "code",
      "execution_count": 1,
      "metadata": {
        "id": "rUPVr9qzKNxa",
        "colab": {
          "base_uri": "https://localhost:8080/"
        },
        "outputId": "f4b60eb3-95b4-4989-8c79-cb110bac4ba0"
      },
      "outputs": [
        {
          "output_type": "stream",
          "name": "stdout",
          "text": [
            "Hasil Prediksi:\n",
            "['Normal' 'Normal' 'Berat' 'Sedang' 'Sedang' 'Normal' 'Sangat Berat'\n",
            " 'Berat' 'Sedang' 'Berat' 'Berat' 'Sangat Berat' 'Berat' 'Normal' 'Sedang'\n",
            " 'Normal' 'Normal' 'Berat' 'Sedang' 'Sedang']\n",
            "Confusion Matrix:\n",
            "[[2 0 0 2]\n",
            " [0 6 0 0]\n",
            " [1 0 2 0]\n",
            " [3 0 0 4]]\n",
            "akurasi: \n",
            "0.7\n"
          ]
        }
      ],
      "source": [
        "#Import necessary modules\n",
        "from sklearn.neighbors import KNeighborsClassifier\n",
        "from sklearn.model_selection import train_test_split\n",
        "from sklearn.metrics import confusion_matrix\n",
        "import numpy as np\n",
        "import matplotlib.pyplot as plt\n",
        "import pandas as pd\n",
        "\n",
        "df = pd.read_csv(\"kecemasan1.csv\", sep=\";\")\n",
        "#print(df)\n",
        "\n",
        "# Create feature and target arrays\n",
        "X = df[['K1','K2','K3','K4','K5','K6','K7']]\n",
        "y = df['tingkat_kecemasan']\n",
        "  \n",
        "# Split into training and test set\n",
        "X_train, X_test, y_train, y_test = train_test_split(\n",
        "             X, y, test_size = 0.2, random_state=42)\n",
        "  \n",
        "knn = KNeighborsClassifier(n_neighbors=7)\n",
        "  \n",
        "knn.fit(X_train, y_train)\n",
        "\n",
        "# Predicting the Test set results\n",
        "y_pred = knn.predict(X_test)\n",
        "print('Hasil Prediksi:')\n",
        "print(knn.predict(X_test))\n",
        "\n",
        "# membuat confusion matrix\n",
        "confusion_matrix(y_test, y_pred)\n",
        "print('Confusion Matrix:')\n",
        "print(confusion_matrix(y_test, y_pred))\n",
        "  \n",
        "# Calculate the accuracy of the model\n",
        "print('akurasi: ')\n",
        "print(knn.score(X_test, y_test))"
      ]
    }
  ]
}
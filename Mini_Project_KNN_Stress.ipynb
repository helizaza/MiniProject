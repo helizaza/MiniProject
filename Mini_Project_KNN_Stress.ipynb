{
  "nbformat": 4,
  "nbformat_minor": 0,
  "metadata": {
    "colab": {
      "provenance": [],
      "collapsed_sections": []
    },
    "kernelspec": {
      "name": "python3",
      "display_name": "Python 3"
    },
    "language_info": {
      "name": "python"
    }
  },
  "cells": [
    {
      "cell_type": "code",
      "execution_count": 2,
      "metadata": {
        "colab": {
          "base_uri": "https://localhost:8080/"
        },
        "id": "owu4-5F7Flz1",
        "outputId": "0d229366-5a79-42fd-a2ea-276c4511cf02"
      },
      "outputs": [
        {
          "output_type": "stream",
          "name": "stdout",
          "text": [
            "        Nama;S1;S2;S3;S4;S5;S6;S7;tingkat_stres\n",
            "0             Sesi sahamur;1;1;1;1;2;1;1;Ringan\n",
            "1             Alvianikrisma;2;0;2;3;3;2;3;Berat\n",
            "2          Rahmat Ramadhan;1;3;3;0;1;0;0;Ringan\n",
            "3                Adi Darma;1;0;2;1;1;2;1;Ringan\n",
            "4     Mayang Putri Pracoso;0;1;0;0;1;1;1;Normal\n",
            "..                                          ...\n",
            "95                  Nadiah;1;1;0;1;0;1;1;Normal\n",
            "96           Raihan Febryan;3;1;2;3;1;3;3;Berat\n",
            "97    Renaldi Panji Wibowo;1;0;0;0;2;0;0;Normal\n",
            "98  Maharani Dwi Anggraeni;0;1;2;1;1;1;2;Ringan\n",
            "99         Wahyu kurniawan;0;0;0;0;3;0;0;Ringan\n",
            "\n",
            "[100 rows x 1 columns]\n"
          ]
        }
      ],
      "source": [
        "import pandas as pd\n",
        "\n",
        "df = pd.read_csv(\"Stress.csv\")\n",
        "print(df)\n",
        "\n",
        "#membuat data frame (hasil) menjadi data scv yang bisa di download\n",
        "#index=False artinya angka urutan saat terbentuk frame tidak digunakan\n",
        "#setelah di running, hasil csv akan terbentuk dan bisa di download di folder\n",
        "df.to_csv(\"stress1.csv\", index=False)"
      ]
    },
    {
      "cell_type": "code",
      "source": [
        "# Import necessary modules\n",
        "from sklearn.neighbors import KNeighborsClassifier\n",
        "from sklearn.model_selection import train_test_split\n",
        "from sklearn.metrics import confusion_matrix\n",
        "import numpy as np\n",
        "import matplotlib.pyplot as plt\n",
        "import pandas as pd\n",
        "\n",
        "df = pd.read_csv(\"stress1.csv\", sep=\";\")\n",
        "print(df)\n",
        "\n",
        "# Create feature and target arrays\n",
        "X = df[['S1','S2','S3','S4','S5','S6','S7']]\n",
        "y = df['tingkat_stres']\n",
        "  \n",
        "# Split into training and test set\n",
        "X_train, X_test, y_train, y_test = train_test_split(\n",
        "             X, y, test_size = 0.2, random_state=42)\n",
        "  \n",
        "neighbors = np.arange(1, 11)\n",
        "train_accuracy = np.empty(len(neighbors))\n",
        "test_accuracy = np.empty(len(neighbors))\n",
        "  \n",
        "# Loop over K values\n",
        "for i, k in enumerate(neighbors):\n",
        "    knn = KNeighborsClassifier(n_neighbors=k)\n",
        "    knn.fit(X_train, y_train)\n",
        "      \n",
        "    # Compute training and test data accuracy\n",
        "    train_accuracy[i] = knn.score(X_train, y_train)\n",
        "    test_accuracy[i] = knn.score(X_test, y_test)\n",
        "  \n",
        "# Generate plot\n",
        "plt.plot(neighbors, test_accuracy, label = 'Testing dataset Accuracy')\n",
        "plt.plot(neighbors, train_accuracy, label = 'Training dataset Accuracy')\n",
        "  \n",
        "plt.legend()\n",
        "plt.xlabel('n_neighbors')\n",
        "plt.ylabel('Accuracy')\n",
        "plt.show()\n",
        "\n"
      ],
      "metadata": {
        "colab": {
          "base_uri": "https://localhost:8080/",
          "height": 531
        },
        "id": "-QiHC_fvGN1n",
        "outputId": "ebf105c6-5bf4-4b74-a6a5-1a651f45ee87"
      },
      "execution_count": 6,
      "outputs": [
        {
          "output_type": "stream",
          "name": "stdout",
          "text": [
            "                      Nama  S1  S2  S3  S4  S5  S6  S7 tingkat_stres\n",
            "0             Sesi sahamur   1   1   1   1   2   1   1        Ringan\n",
            "1            Alvianikrisma   2   0   2   3   3   2   3         Berat\n",
            "2          Rahmat Ramadhan   1   3   3   0   1   0   0        Ringan\n",
            "3                Adi Darma   1   0   2   1   1   2   1        Ringan\n",
            "4     Mayang Putri Pracoso   0   1   0   0   1   1   1        Normal\n",
            "..                     ...  ..  ..  ..  ..  ..  ..  ..           ...\n",
            "95                  Nadiah   1   1   0   1   0   1   1        Normal\n",
            "96          Raihan Febryan   3   1   2   3   1   3   3         Berat\n",
            "97    Renaldi Panji Wibowo   1   0   0   0   2   0   0        Normal\n",
            "98  Maharani Dwi Anggraeni   0   1   2   1   1   1   2        Ringan\n",
            "99         Wahyu kurniawan   0   0   0   0   3   0   0        Ringan\n",
            "\n",
            "[100 rows x 9 columns]\n"
          ]
        },
        {
          "output_type": "display_data",
          "data": {
            "text/plain": [
              "<Figure size 432x288 with 1 Axes>"
            ],
            "image/png": "[encoded data removed]"
          },
          "metadata": {
            "needs_background": "light"
          }
        }
      ]
    }
  ]
}
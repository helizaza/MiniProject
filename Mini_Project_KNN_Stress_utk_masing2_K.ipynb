{
  "nbformat": 4,
  "nbformat_minor": 0,
  "metadata": {
    "colab": {
      "provenance": [],
      "collapsed_sections": []
    },
    "kernelspec": {
      "name": "python3",
      "display_name": "Python 3"
    },
    "language_info": {
      "name": "python"
    }
  },
  "cells": [
    {
      "cell_type": "code",
      "execution_count": 1,
      "metadata": {
        "colab": {
          "base_uri": "https://localhost:8080/"
        },
        "id": "EBoBRHwAH949",
        "outputId": "b72f1de9-867a-4e15-eccd-736703f4d60f"
      },
      "outputs": [
        {
          "output_type": "stream",
          "name": "stdout",
          "text": [
            "83    Ringan\n",
            "53    Normal\n",
            "70     Berat\n",
            "45    Normal\n",
            "44    Ringan\n",
            "39    Normal\n",
            "22    Ringan\n",
            "80    Ringan\n",
            "10    Sedang\n",
            "0     Ringan\n",
            "18    Normal\n",
            "30    Ringan\n",
            "73    Normal\n",
            "33    Normal\n",
            "90    Ringan\n",
            "4     Normal\n",
            "76    Normal\n",
            "77    Sedang\n",
            "12    Ringan\n",
            "31    Normal\n",
            "Name: tingkat_stres, dtype: object\n",
            "Hasil Prediksi:\n",
            "['Ringan' 'Normal' 'Berat' 'Normal' 'Normal' 'Normal' 'Ringan' 'Ringan'\n",
            " 'Sedang' 'Ringan' 'Normal' 'Sedang' 'Normal' 'Normal' 'Ringan' 'Normal'\n",
            " 'Normal' 'Sedang' 'Sedang' 'Normal']\n",
            "Confusion Matrix:\n",
            "[[1 0 0 0]\n",
            " [0 9 0 0]\n",
            " [0 1 5 2]\n",
            " [0 0 0 2]]\n",
            "              precision    recall  f1-score   support\n",
            "\n",
            "       Berat       1.00      1.00      1.00         1\n",
            "      Normal       0.90      1.00      0.95         9\n",
            "      Ringan       1.00      0.62      0.77         8\n",
            "      Sedang       0.50      1.00      0.67         2\n",
            "\n",
            "    accuracy                           0.85        20\n",
            "   macro avg       0.85      0.91      0.85        20\n",
            "weighted avg       0.91      0.85      0.85        20\n",
            "\n",
            "akurasi: \n",
            "0.85\n"
          ]
        }
      ],
      "source": [
        "#Import necessary modules\n",
        "from sklearn.neighbors import KNeighborsClassifier\n",
        "from sklearn.model_selection import train_test_split\n",
        "from sklearn.metrics import confusion_matrix\n",
        "import numpy as np\n",
        "import matplotlib.pyplot as plt\n",
        "import pandas as pd\n",
        "\n",
        "df = pd.read_csv(\"stress1.csv\", sep=\";\")\n",
        "#print(df)\n",
        "\n",
        "# Create feature and target arrays\n",
        "X = df[['S1','S2','S3','S4','S5','S6','S7']]\n",
        "y = df['tingkat_stres']\n",
        "  \n",
        "# Split into training and test set\n",
        "X_train, X_test, y_train, y_test = train_test_split(\n",
        "             X, y, test_size = 0.2, random_state=42)\n",
        "\n",
        "print(y_test)\n",
        "  \n",
        "knn = KNeighborsClassifier(n_neighbors=7)\n",
        "  \n",
        "knn.fit(X_train, y_train)\n",
        "\n",
        "# Predicting the Test set results\n",
        "y_pred = knn.predict(X_test)\n",
        "print('Hasil Prediksi:')\n",
        "print(knn.predict(X_test))\n",
        "\n",
        "# membuat confusion matrix\n",
        "confusion_matrix(y_test, y_pred)\n",
        "print('Confusion Matrix:')\n",
        "print(confusion_matrix(y_test, y_pred))\n",
        "\n",
        "#evaluate performance from the confusion matrix \n",
        "from sklearn.metrics import classification_report, confusion_matrix\n",
        "print(classification_report(y_test, y_pred))\n",
        "  \n",
        "# Calculate the accuracy of the model\n",
        "print('akurasi: ')\n",
        "print(knn.score(X_test, y_test))"
      ]
    }
  ]
}
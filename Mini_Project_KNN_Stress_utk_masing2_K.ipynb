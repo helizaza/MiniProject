{
  "nbformat": 4,
  "nbformat_minor": 0,
  "metadata": {
    "colab": {
      "provenance": [],
      "collapsed_sections": []
    },
    "kernelspec": {
      "name": "python3",
      "display_name": "Python 3"
    },
    "language_info": {
      "name": "python"
    }
  },
  "cells": [
    {
      "cell_type": "code",
      "execution_count": 2,
      "metadata": {
        "colab": {
          "base_uri": "https://localhost:8080/"
        },
        "id": "EBoBRHwAH949",
        "outputId": "9a47d3e0-d653-4f51-d648-f212259bbc19"
      },
      "outputs": [
        {
          "output_type": "stream",
          "name": "stdout",
          "text": [
            "Hasil Prediksi:\n",
            "['Ringan' 'Normal' 'Berat' 'Normal' 'Normal' 'Normal' 'Ringan' 'Ringan'\n",
            " 'Sedang' 'Ringan' 'Normal' 'Sedang' 'Normal' 'Normal' 'Ringan' 'Normal'\n",
            " 'Normal' 'Sedang' 'Sedang' 'Normal']\n",
            "Confusion Matrix:\n",
            "[[1 0 0 0]\n",
            " [0 9 0 0]\n",
            " [0 1 5 2]\n",
            " [0 0 0 2]]\n",
            "akurasi: \n",
            "0.85\n"
          ]
        }
      ],
      "source": [
        "#Import necessary modules\n",
        "from sklearn.neighbors import KNeighborsClassifier\n",
        "from sklearn.model_selection import train_test_split\n",
        "from sklearn.metrics import confusion_matrix\n",
        "import numpy as np\n",
        "import matplotlib.pyplot as plt\n",
        "import pandas as pd\n",
        "\n",
        "df = pd.read_csv(\"stress1.csv\", sep=\";\")\n",
        "#print(df)\n",
        "\n",
        "# Create feature and target arrays\n",
        "X = df[['S1','S2','S3','S4','S5','S6','S7']]\n",
        "y = df['tingkat_stres']\n",
        "  \n",
        "# Split into training and test set\n",
        "X_train, X_test, y_train, y_test = train_test_split(\n",
        "             X, y, test_size = 0.2, random_state=42)\n",
        "  \n",
        "knn = KNeighborsClassifier(n_neighbors=7)\n",
        "  \n",
        "knn.fit(X_train, y_train)\n",
        "\n",
        "# Predicting the Test set results\n",
        "y_pred = knn.predict(X_test)\n",
        "print('Hasil Prediksi:')\n",
        "print(knn.predict(X_test))\n",
        "\n",
        "# membuat confusion matrix\n",
        "confusion_matrix(y_test, y_pred)\n",
        "print('Confusion Matrix:')\n",
        "print(confusion_matrix(y_test, y_pred))\n",
        "  \n",
        "# Calculate the accuracy of the model\n",
        "print('akurasi: ')\n",
        "print(knn.score(X_test, y_test))"
      ]
    }
  ]
}
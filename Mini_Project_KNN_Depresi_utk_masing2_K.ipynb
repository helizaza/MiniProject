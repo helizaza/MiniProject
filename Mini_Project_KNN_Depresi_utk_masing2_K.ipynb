{
  "nbformat": 4,
  "nbformat_minor": 0,
  "metadata": {
    "colab": {
      "provenance": [],
      "collapsed_sections": []
    },
    "kernelspec": {
      "name": "python3",
      "display_name": "Python 3"
    },
    "language_info": {
      "name": "python"
    }
  },
  "cells": [
    {
      "cell_type": "code",
      "execution_count": 1,
      "metadata": {
        "colab": {
          "base_uri": "https://localhost:8080/"
        },
        "id": "ymu5eIVqDpKx",
        "outputId": "63e8f0c6-2229-4a47-9b9e-1a024b81ef5a"
      },
      "outputs": [
        {
          "output_type": "stream",
          "name": "stdout",
          "text": [
            "Hasil Prediksi:\n",
            "['Normal' 'Normal' 'Sedang' 'Normal' 'Normal' 'Normal' 'Sedang' 'Normal'\n",
            " 'Normal' 'Normal' 'Normal' 'Ringan' 'Normal' 'Normal' 'Normal' 'Normal'\n",
            " 'Normal' 'Ringan' 'Normal' 'Normal']\n",
            "Confusion Matrix:\n",
            "[[12  0  0]\n",
            " [ 4  0  0]\n",
            " [ 0  2  2]]\n",
            "              precision    recall  f1-score   support\n",
            "\n",
            "      Normal       0.75      1.00      0.86        12\n",
            "      Ringan       0.00      0.00      0.00         4\n",
            "      Sedang       1.00      0.50      0.67         4\n",
            "\n",
            "    accuracy                           0.70        20\n",
            "   macro avg       0.58      0.50      0.51        20\n",
            "weighted avg       0.65      0.70      0.65        20\n",
            "\n",
            "akurasi: \n",
            "0.7\n"
          ]
        }
      ],
      "source": [
        "#Import necessary modules\n",
        "from sklearn.neighbors import KNeighborsClassifier\n",
        "from sklearn.model_selection import train_test_split\n",
        "from sklearn.metrics import confusion_matrix\n",
        "import numpy as np\n",
        "import matplotlib.pyplot as plt\n",
        "import pandas as pd\n",
        "\n",
        "df = pd.read_csv(\"depresi1.csv\", sep=\";\")\n",
        "#print(df)\n",
        "\n",
        "# Create feature and target arrays\n",
        "X = df[['D1','D2','D3','D4','D5','D6','D7']]\n",
        "y = df['tingkat_depresi']\n",
        "  \n",
        "# Split into training and test set\n",
        "X_train, X_test, y_train, y_test = train_test_split(\n",
        "             X, y, test_size = 0.2, random_state=42)\n",
        "  \n",
        "knn = KNeighborsClassifier(n_neighbors=7)\n",
        "  \n",
        "knn.fit(X_train, y_train)\n",
        "\n",
        "# Predicting the Test set results\n",
        "y_pred = knn.predict(X_test)\n",
        "print('Hasil Prediksi:')\n",
        "print(knn.predict(X_test))\n",
        "\n",
        "# membuat confusion matrix\n",
        "confusion_matrix(y_test, y_pred)\n",
        "print('Confusion Matrix:')\n",
        "print(confusion_matrix(y_test, y_pred))\n",
        "\n",
        "#evaluate performance from the confusion matrix \n",
        "from sklearn.metrics import classification_report, confusion_matrix\n",
        "print(classification_report(y_test, y_pred))\n",
        "  \n",
        "# Calculate the accuracy of the model\n",
        "print('akurasi: ')\n",
        "print(knn.score(X_test, y_test))"
      ]
    }
  ]
}
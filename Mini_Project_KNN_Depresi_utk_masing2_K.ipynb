{
  "nbformat": 4,
  "nbformat_minor": 0,
  "metadata": {
    "colab": {
      "provenance": [],
      "collapsed_sections": []
    },
    "kernelspec": {
      "name": "python3",
      "display_name": "Python 3"
    },
    "language_info": {
      "name": "python"
    }
  },
  "cells": [
    {
      "cell_type": "code",
      "execution_count": 1,
      "metadata": {
        "colab": {
          "base_uri": "https://localhost:8080/"
        },
        "id": "ymu5eIVqDpKx",
        "outputId": "b70959b8-b6e8-4583-9997-eb60c0d4ae8c"
      },
      "outputs": [
        {
          "output_type": "stream",
          "name": "stdout",
          "text": [
            "83    Ringan\n",
            "53    Normal\n",
            "70    Sedang\n",
            "45    Normal\n",
            "44    Normal\n",
            "39    Normal\n",
            "22    Sedang\n",
            "80    Ringan\n",
            "10    Ringan\n",
            "0     Ringan\n",
            "18    Normal\n",
            "30    Sedang\n",
            "73    Normal\n",
            "33    Normal\n",
            "90    Normal\n",
            "4     Normal\n",
            "76    Normal\n",
            "77    Sedang\n",
            "12    Normal\n",
            "31    Normal\n",
            "Name: tingkat_depresi, dtype: object\n",
            "Hasil Prediksi:\n",
            "['Normal' 'Normal' 'Sedang' 'Normal' 'Normal' 'Normal' 'Sedang' 'Normal'\n",
            " 'Normal' 'Normal' 'Normal' 'Ringan' 'Normal' 'Normal' 'Normal' 'Normal'\n",
            " 'Normal' 'Ringan' 'Normal' 'Normal']\n",
            "Confusion Matrix:\n",
            "[[12  0  0]\n",
            " [ 4  0  0]\n",
            " [ 0  2  2]]\n",
            "              precision    recall  f1-score   support\n",
            "\n",
            "      Normal       0.75      1.00      0.86        12\n",
            "      Ringan       0.00      0.00      0.00         4\n",
            "      Sedang       1.00      0.50      0.67         4\n",
            "\n",
            "    accuracy                           0.70        20\n",
            "   macro avg       0.58      0.50      0.51        20\n",
            "weighted avg       0.65      0.70      0.65        20\n",
            "\n",
            "akurasi: \n",
            "0.7\n"
          ]
        }
      ],
      "source": [
        "#Import necessary modules\n",
        "from sklearn.neighbors import KNeighborsClassifier\n",
        "from sklearn.model_selection import train_test_split\n",
        "from sklearn.metrics import confusion_matrix\n",
        "import numpy as np\n",
        "import matplotlib.pyplot as plt\n",
        "import pandas as pd\n",
        "\n",
        "df = pd.read_csv(\"depresi1.csv\", sep=\";\")\n",
        "#print(df)\n",
        "\n",
        "# Create feature and target arrays\n",
        "X = df[['D1','D2','D3','D4','D5','D6','D7']]\n",
        "y = df['tingkat_depresi']\n",
        "  \n",
        "# Split into training and test set\n",
        "X_train, X_test, y_train, y_test = train_test_split(\n",
        "             X, y, test_size = 0.2, random_state=42)\n",
        "\n",
        "print(y_test)\n",
        "  \n",
        "knn = KNeighborsClassifier(n_neighbors=7)\n",
        "  \n",
        "knn.fit(X_train, y_train)\n",
        "\n",
        "# Predicting the Test set results\n",
        "y_pred = knn.predict(X_test)\n",
        "print('Hasil Prediksi:')\n",
        "print(knn.predict(X_test))\n",
        "\n",
        "# membuat confusion matrix\n",
        "confusion_matrix(y_test, y_pred)\n",
        "print('Confusion Matrix:')\n",
        "print(confusion_matrix(y_test, y_pred))\n",
        "\n",
        "#evaluate performance from the confusion matrix \n",
        "from sklearn.metrics import classification_report, confusion_matrix\n",
        "print(classification_report(y_test, y_pred))\n",
        "  \n",
        "# Calculate the accuracy of the model\n",
        "print('akurasi: ')\n",
        "print(knn.score(X_test, y_test))"
      ]
    }
  ]
}
{
  "nbformat": 4,
  "nbformat_minor": 0,
  "metadata": {
    "colab": {
      "provenance": [],
      "collapsed_sections": []
    },
    "kernelspec": {
      "name": "python3",
      "display_name": "Python 3"
    },
    "language_info": {
      "name": "python"
    }
  },
  "cells": [
    {
      "cell_type": "code",
      "source": [
        "import pandas as pd\n",
        "\n",
        "df = pd.read_csv(\"Depresi.csv\")\n",
        "print(df)\n",
        "\n",
        "#membuat data frame (hasil) menjadi data scv yang bisa di download\n",
        "#index=False artinya angka urutan saat terbentuk frame tidak digunakan\n",
        "#setelah di running, hasil csv akan terbentuk dan bisa di download di folder\n",
        "df.to_csv(\"depresi1.csv\", index=False)"
      ],
      "metadata": {
        "colab": {
          "base_uri": "https://localhost:8080/"
        },
        "id": "jdVvfzAujnWW",
        "outputId": "8824be09-1d41-4252-8875-ac9f548d1a4b"
      },
      "execution_count": 50,
      "outputs": [
        {
          "output_type": "stream",
          "name": "stdout",
          "text": [
            "      Nama;D1;D2;D3;D4;D5;D6;D7;tingkat_depresi\n",
            "0             Sesi sahamur;1;0;0;2;2;1;0;Ringan\n",
            "1             Alvianikrisma;1;2;0;3;2;3;0;Berat\n",
            "2          Rahmat Ramadhan;1;0;0;3;0;0;0;Normal\n",
            "3                Adi Darma;0;1;1;1;0;1;0;Normal\n",
            "4     Mayang Putri Pracoso;0;1;0;0;0;0;0;Normal\n",
            "..                                          ...\n",
            "95                  Nadiah;1;2;0;1;0;0;0;Normal\n",
            "96          Raihan Febryan;0;1;0;3;3;1;0;Sedang\n",
            "97    Renaldi Panji Wibowo;0;0;0;0;2;0;0;Normal\n",
            "98  Maharani Dwi Anggraeni;1;3;0;1;2;2;0;Sedang\n",
            "99         Wahyu kurniawan;0;1;1;0;0;1;0;Ringan\n",
            "\n",
            "[100 rows x 1 columns]\n"
          ]
        }
      ]
    },
    {
      "cell_type": "code",
      "source": [
        "# Import necessary modules\n",
        "from sklearn.neighbors import KNeighborsClassifier\n",
        "from sklearn.model_selection import train_test_split\n",
        "from sklearn.metrics import confusion_matrix\n",
        "import numpy as np\n",
        "import matplotlib.pyplot as plt\n",
        "import pandas as pd\n",
        "\n",
        "df = pd.read_csv(\"depresi1.csv\", sep=\";\")\n",
        "print(df)\n",
        "\n",
        "# Create feature and target arrays\n",
        "X = df[['D1','D2','D3','D4','D5','D6','D7']]\n",
        "y = df['tingkat_depresi']\n",
        "  \n",
        "# Split into training and test set\n",
        "X_train, X_test, y_train, y_test = train_test_split(\n",
        "             X, y, test_size = 0.2, random_state=42)\n",
        "  \n",
        "#knn = KNeighborsClassifier(n_neighbors=5)\n",
        "  \n",
        "#knn.fit(X_train, y_train)\n",
        "  \n",
        "# Predicting the Test set results\n",
        "#y_pred = knn.predict(X_test)\n",
        "#print('Hasil Prediksi:')\n",
        "#print(knn.predict(X_test))\n",
        "\n",
        "# membuat confusion matrix\n",
        "#confusion_matrix(y_test, y_pred)\n",
        "#print('Confusion Matrix:')\n",
        "#print(confusion_matrix(y_test, y_pred))\n",
        "\n",
        "# Calculate the accuracy of the model\n",
        "#print('Akurasi:')\n",
        "#print(knn.score(X_test, y_test))\n",
        "\n",
        "neighbors = np.arange(1, 11)\n",
        "train_accuracy = np.empty(len(neighbors))\n",
        "test_accuracy = np.empty(len(neighbors))\n",
        "  \n",
        "# Loop over K values\n",
        "for i, k in enumerate(neighbors):\n",
        "    knn = KNeighborsClassifier(n_neighbors=k)\n",
        "    knn.fit(X_train, y_train)\n",
        "      \n",
        "    # Compute training and test data accuracy\n",
        "    train_accuracy[i] = knn.score(X_train, y_train)\n",
        "    test_accuracy[i] = knn.score(X_test, y_test)\n",
        "  \n",
        "# Generate plot\n",
        "plt.plot(neighbors, test_accuracy, label = 'Testing dataset Accuracy')\n",
        "plt.plot(neighbors, train_accuracy, label = 'Training dataset Accuracy')\n",
        "  \n",
        "plt.legend()\n",
        "plt.xlabel('n_neighbors')\n",
        "plt.ylabel('Accuracy')\n",
        "plt.show()\n",
        "\n"
      ],
      "metadata": {
        "colab": {
          "base_uri": "https://localhost:8080/",
          "height": 531
        },
        "id": "d7nzr7Da3UC-",
        "outputId": "941c8eea-38ef-46b1-9b66-644353742f5f"
      },
      "execution_count": 88,
      "outputs": [
        {
          "output_type": "stream",
          "name": "stdout",
          "text": [
            "                      Nama  D1  D2  D3  D4  D5  D6  D7 tingkat_depresi\n",
            "0             Sesi sahamur   1   0   0   2   2   1   0          Ringan\n",
            "1            Alvianikrisma   1   2   0   3   2   3   0           Berat\n",
            "2          Rahmat Ramadhan   1   0   0   3   0   0   0          Normal\n",
            "3                Adi Darma   0   1   1   1   0   1   0          Normal\n",
            "4     Mayang Putri Pracoso   0   1   0   0   0   0   0          Normal\n",
            "..                     ...  ..  ..  ..  ..  ..  ..  ..             ...\n",
            "95                  Nadiah   1   2   0   1   0   0   0          Normal\n",
            "96          Raihan Febryan   0   1   0   3   3   1   0          Sedang\n",
            "97    Renaldi Panji Wibowo   0   0   0   0   2   0   0          Normal\n",
            "98  Maharani Dwi Anggraeni   1   3   0   1   2   2   0          Sedang\n",
            "99         Wahyu kurniawan   0   1   1   0   0   1   0          Ringan\n",
            "\n",
            "[100 rows x 9 columns]\n"
          ]
        },
        {
          "output_type": "display_data",
          "data": {
            "text/plain": [
              "<Figure size 432x288 with 1 Axes>"
            ],
            "image/png": "[encoded data removed]"
          },
          "metadata": {
            "needs_background": "light"
          }
        }
      ]
    }
  ]
}